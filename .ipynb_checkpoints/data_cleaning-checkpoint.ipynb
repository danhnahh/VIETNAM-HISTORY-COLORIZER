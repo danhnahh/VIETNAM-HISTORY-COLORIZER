{
 "cells": [
  {
   "cell_type": "markdown",
   "id": "b3a1178b-9cf5-4f58-a620-c11a746dafac",
   "metadata": {},
   "source": [
    "# Tính khoảng cánh Hamming giữa frame liền kề"
   ]
  },
  {
   "cell_type": "code",
   "execution_count": 33,
   "id": "f341753f-0570-45df-958f-4bc33aec9fda",
   "metadata": {},
   "outputs": [],
   "source": [
    "data_dir = \"data/NBDL\""
   ]
  },
  {
   "cell_type": "markdown",
   "id": "7ea73418-2eb2-48d3-9797-0a719f31bdef",
   "metadata": {},
   "source": [
    "Lấy danh sách file ảnh và sắp xếp theo số frame"
   ]
  },
  {
   "cell_type": "code",
   "execution_count": 34,
   "id": "e4a946fd-9ebb-47d9-bd82-49385f2d95ad",
   "metadata": {},
   "outputs": [],
   "source": [
    "files = sorted(os.listdir(data_dir), key=lambda x: int(x.split('_')[1].split('.')[0]))"
   ]
  },
  {
   "cell_type": "markdown",
   "id": "cd1af490-edc0-492e-8f08-2ec5feaa23b3",
   "metadata": {},
   "source": [
    "Duyệt qua từng cặp ảnh liền kề"
   ]
  },
  {
   "cell_type": "code",
   "execution_count": 35,
   "id": "0fb7d33c-642b-4251-9165-3ade499a97dd",
   "metadata": {},
   "outputs": [],
   "source": [
    "hamming_distances = []\n",
    "\n",
    "for i in range(len(files) - 1):\n",
    "    img1_path = os.path.join(data_dir, files[i])\n",
    "    img2_path = os.path.join(data_dir, files[i+1])\n",
    "    \n",
    "    # Đọc ảnh\n",
    "    img1 = Image.open(img1_path)\n",
    "    img2 = Image.open(img2_path)\n",
    "    \n",
    "    # Tính pHash\n",
    "    hash1 = imagehash.phash(img1)\n",
    "    hash2 = imagehash.phash(img2)\n",
    "    \n",
    "    # Khoảng cách Hamming\n",
    "    diff = hash1 - hash2\n",
    "    hamming_distances.append(diff)\n",
    "    \n",
    "    # print(f\"{files[i]} vs {files[i+1]}: Hamming distance = {diff}\")"
   ]
  },
  {
   "cell_type": "code",
   "execution_count": 36,
   "id": "517d4c9b-b202-4727-b357-4c5e402e5c36",
   "metadata": {},
   "outputs": [
    {
     "name": "stdout",
     "output_type": "stream",
     "text": [
      "Tổng số cặp có khoảng cách < 10:  52\n",
      "Tổng số cặp có khoảng cách >=10:  1147\n"
     ]
    }
   ],
   "source": [
    "count_less_than_10 = sum(1 for d in hamming_distances if d < 5)\n",
    "print(\"Tổng số cặp có khoảng cách < 10: \", count_less_than_10)\n",
    "print(\"Tổng số cặp có khoảng cách >=10: \", len(hamming_distances) - count_less_than_10)"
   ]
  },
  {
   "cell_type": "code",
   "execution_count": null,
   "id": "b8090557-088a-40c2-9f82-eb99071fd3c1",
   "metadata": {},
   "outputs": [],
   "source": [
    "from PIL import Image\n",
    "import imagehash\n",
    "import os\n",
    "import matplotlib.pyplot as plt\n",
    "import numpy as np\n",
    "\n",
    "data_dir = \"data/NBDL\"\n",
    "files = sorted(os.listdir(data_dir), key=lambda x: int(x.split('_')[1].split('.')[0]))\n",
    "\n",
    "# Tính tất cả Hamming distances giữa các cặp liền kề\n",
    "hamming_distances = []\n",
    "pairs = []\n",
    "for i in range(len(files)-1):\n",
    "    p1 = os.path.join(data_dir, files[i])\n",
    "    p2 = os.path.join(data_dir, files[i+1])\n",
    "    h1 = imagehash.phash(Image.open(p1))\n",
    "    h2 = imagehash.phash(Image.open(p2))\n",
    "    d = h1 - h2\n",
    "    hamming_distances.append(d)\n",
    "    pairs.append((files[i], files[i+1], d))\n",
    "\n",
    "hamming_arr = np.array(hamming_distances)\n",
    "\n",
    "# Vẽ histogram (để quan sát phân phối)\n",
    "plt.figure(figsize=(8,4))\n",
    "plt.hist(hamming_arr, bins=range(0, max(hamming_arr)+2), edgecolor='k')\n",
    "plt.xlabel('Hamming distance')\n",
    "plt.ylabel('Count')\n",
    "plt.title('Histogram Hamming distances giữa frame liền kề')\n",
    "plt.show()\n",
    "\n",
    "# So sánh với vài ngưỡng để biết số cặp \"gần giống\"\n",
    "thresholds = [1,2,3,4,5,6,8,10]\n",
    "for t in thresholds:\n",
    "    c = np.sum(hamming_arr <= t)\n",
    "    print(f\"<= {t}: {c} cặp ({c/len(hamming_arr):.2%})\")"
   ]
  },
  {
   "cell_type": "markdown",
   "id": "2c6f6c42-68d1-4242-933e-460485275003",
   "metadata": {},
   "source": [
    "# Loại bỏ ảnh mờ"
   ]
  },
  {
   "cell_type": "code",
   "execution_count": 8,
   "id": "ed210ce0-c55d-4dc2-859e-512aef079684",
   "metadata": {},
   "outputs": [],
   "source": [
    "import cv2\n",
    "import numpy as np\n",
    "import os\n",
    "import fnmatch"
   ]
  },
  {
   "cell_type": "code",
   "execution_count": 9,
   "id": "bb072dbb-f83d-46e3-9cc5-30d03886b293",
   "metadata": {},
   "outputs": [],
   "source": [
    "PCT = 10  # loại ảnh dưới percentil PCT\n",
    "PATTERN = \"frame_*.jpg\"\n",
    "ROOT_DIR = \"data\"  # folder gốc chứa nhiều folder con"
   ]
  },
  {
   "cell_type": "code",
   "execution_count": 10,
   "id": "efbb3abb-63c1-45a3-925e-0cc0b8b358a3",
   "metadata": {},
   "outputs": [],
   "source": [
    "def var_laplacian_gray(img_path):\n",
    "    \"\"\"Trả về variance of Laplacian (float) hoặc None nếu không đọc được.\"\"\"\n",
    "    img = cv2.imread(img_path)\n",
    "    if img is None:\n",
    "        try:\n",
    "            img = cv2.imdecode(np.fromfile(img_path, dtype=np.uint8), cv2.IMREAD_COLOR)\n",
    "        except Exception:\n",
    "            return None\n",
    "        if img is None:\n",
    "            return None\n",
    "    gray = cv2.cvtColor(img, cv2.COLOR_BGR2GRAY)\n",
    "    return float(cv2.Laplacian(gray, cv2.CV_64F).var())"
   ]
  },
  {
   "cell_type": "code",
   "execution_count": 11,
   "id": "db1fb119-1b31-41e7-b100-ab29ad8a891d",
   "metadata": {},
   "outputs": [],
   "source": [
    "# Lưu kết quả của từng folder\n",
    "results = {}"
   ]
  },
  {
   "cell_type": "code",
   "execution_count": 12,
   "id": "ef3f56df-0363-4335-bd58-ad8b591a9cd1",
   "metadata": {},
   "outputs": [
    {
     "name": "stdout",
     "output_type": "stream",
     "text": [
      "[DuongThu] Tổng ảnh hợp lệ: 1000 | Ngưỡng: 3.9878 | Giữ lại: 900 ảnh\n",
      "[NBDL] Tổng ảnh hợp lệ: 1200 | Ngưỡng: 1.4161 | Giữ lại: 1080 ảnh\n",
      "[STSH] Tổng ảnh hợp lệ: 578 | Ngưỡng: 64.7750 | Giữ lại: 520 ảnh\n"
     ]
    }
   ],
   "source": [
    "for folder in os.listdir(ROOT_DIR):\n",
    "    folder_path = os.path.join(ROOT_DIR, folder)\n",
    "\n",
    "    paths = [\n",
    "        os.path.join(folder_path, f)\n",
    "        for f in os.listdir(folder_path)\n",
    "        if fnmatch.fnmatch(f, PATTERN)\n",
    "    ]\n",
    "    paths.sort(key=lambda x: int(os.path.basename(x).split(\"_\")[1].split(\".\")[0]))\n",
    "\n",
    "    # Tính variance Laplacian\n",
    "    valid_paths, scores = [], []\n",
    "    for p in paths:\n",
    "        v = var_laplacian_gray(p)\n",
    "        if v is None:\n",
    "            print(f\"[CẢNH BÁO] Không đọc được: {p}\")\n",
    "            continue\n",
    "        valid_paths.append(p)\n",
    "        scores.append(v)\n",
    "\n",
    "    thr = np.percentile(scores, PCT)\n",
    "    keep_paths = [p for p, s in zip(valid_paths, scores) if s >= thr]\n",
    "\n",
    "    results[folder] = keep_paths\n",
    "    print(f\"[{folder}] Tổng ảnh hợp lệ: {len(scores)} | Ngưỡng: {thr:.4f} | Giữ lại: {len(keep_paths)} ảnh\")\n"
   ]
  },
  {
   "cell_type": "code",
   "execution_count": null,
   "id": "67ec78c7-a007-4bb3-ad8a-3eab730511e6",
   "metadata": {},
   "outputs": [],
   "source": []
  },
  {
   "cell_type": "markdown",
   "id": "f951eee1-8ace-4004-a62e-3b2e48560a8b",
   "metadata": {},
   "source": [
    "# Loại bỏ ảnh quá tối/sáng"
   ]
  },
  {
   "cell_type": "code",
   "execution_count": 26,
   "id": "10414d8a-5ba2-4a45-a438-fd3bf3c993ee",
   "metadata": {},
   "outputs": [],
   "source": [
    "import shutil"
   ]
  },
  {
   "cell_type": "code",
   "execution_count": 27,
   "id": "4f2340d3-8ee2-4c23-a6d4-21cc5b8a658c",
   "metadata": {},
   "outputs": [],
   "source": [
    "DARK_THR = 25      # median brightness < DARK_THR => quá tối\n",
    "BRIGHT_THR = 225   # median brightness > BRIGHT_THR => quá sáng\n",
    "MOVE_REMOVED = True  # True -> di chuyển ảnh bị loại"
   ]
  },
  {
   "cell_type": "code",
   "execution_count": 28,
   "id": "26b060ea-c38c-4485-b19d-6cff92898fae",
   "metadata": {},
   "outputs": [],
   "source": [
    "def _safe_read_bgr(path):\n",
    "    img = cv2.imread(path, cv2.IMREAD_COLOR)\n",
    "    if img is None:\n",
    "        try:\n",
    "            arr = np.fromfile(path, dtype=np.uint8)\n",
    "            img = cv2.imdecode(arr, cv2.IMREAD_COLOR)\n",
    "        except Exception:\n",
    "            return None\n",
    "    return img"
   ]
  },
  {
   "cell_type": "code",
   "execution_count": 29,
   "id": "56b57a9f-a033-41cd-a95b-25cb0649290e",
   "metadata": {},
   "outputs": [],
   "source": [
    "def brightness_median(path):\n",
    "    img = _safe_read_bgr(path)\n",
    "    if img is None:\n",
    "        return None\n",
    "    hsv = cv2.cvtColor(img, cv2.COLOR_BGR2HSV)\n",
    "    return float(np.median(hsv[:, :, 2]))\n"
   ]
  },
  {
   "cell_type": "code",
   "execution_count": 30,
   "id": "504749a5-826a-41b9-83f6-07befc950fa2",
   "metadata": {},
   "outputs": [],
   "source": [
    "cleaned_results = {}\n",
    "removed_dark = {} "
   ]
  },
  {
   "cell_type": "code",
   "execution_count": 31,
   "id": "a73546c6-0aa8-4edd-975e-092cb0a70d98",
   "metadata": {},
   "outputs": [
    {
     "name": "stdout",
     "output_type": "stream",
     "text": [
      "[DuongThu] checked=900 | keep=668 | removed=232\n",
      "[NBDL] checked=1080 | keep=931 | removed=149\n",
      "[STSH] checked=520 | keep=466 | removed=54\n"
     ]
    }
   ],
   "source": [
    "for folder, paths in results.items():\n",
    "    keep, removed = [], []\n",
    "    for p in paths:\n",
    "        b = brightness_median(p)\n",
    "        if b is None:\n",
    "            print(f\"[CẢNH BÁO] Không đọc được ảnh (brightness): {p}\")\n",
    "            continue\n",
    "        if b < DARK_THR or b > BRIGHT_THR:\n",
    "            removed.append(p)\n",
    "        else:\n",
    "            keep.append(p)\n",
    "    \"\"\"\n",
    "    di chuyển ảnh removed vào 1 folder\n",
    "    if MOVE_REMOVED and removed:\n",
    "        for p in removed:\n",
    "            parent = os.path.dirname(p) or \".\"\n",
    "            dest_dir = os.path.join(parent, \"removed_dark_bright\")\n",
    "            os.makedirs(dest_dir, exist_ok=True)\n",
    "            try:\n",
    "                shutil.move(p, os.path.join(dest_dir, os.path.basename(p)))\n",
    "            except Exception as e:\n",
    "                print(f\"Không thể di chuyển {p}: {e}\")\n",
    "    Di chuyển ảnh giữ lại vào 1 folder\n",
    "    if keep:\n",
    "        for p in keep:\n",
    "            parent = os.path.dirname(p) or \".\"\n",
    "            dest_dir = os.path.join(parent, \"keep_bright\")\n",
    "            os.makedirs(dest_dir, exist_ok=True)\n",
    "            try:\n",
    "                shutil.move(p, os.path.join(dest_dir, os.path.basename(p)))\n",
    "            except Exception as e:\n",
    "                print(f\"Không thể di chuyển {p}: {e}\")\n",
    "    \"\"\"\n",
    "\n",
    "    cleaned_results[folder] = keep\n",
    "    print(f\"[{folder}] checked={len(paths)} | keep={len(keep)} | removed={len(removed)}\")"
   ]
  },
  {
   "cell_type": "code",
   "execution_count": null,
   "id": "de571475-9608-492b-b2f7-195403431ec1",
   "metadata": {},
   "outputs": [],
   "source": []
  },
  {
   "cell_type": "markdown",
   "id": "b49be8f3-65cb-4a1f-bc6f-f45fe94f4bff",
   "metadata": {},
   "source": [
    "# Loại bỏ near-duplicates"
   ]
  },
  {
   "cell_type": "code",
   "execution_count": 37,
   "id": "b55b140f-6ea1-4536-9504-aec47f980fe7",
   "metadata": {},
   "outputs": [],
   "source": [
    "from PIL import Image\n",
    "import imagehash\n",
    "import os"
   ]
  },
  {
   "cell_type": "code",
   "execution_count": 38,
   "id": "80cf0fcc-7019-4bfa-bab9-44b649ebd5a7",
   "metadata": {},
   "outputs": [],
   "source": [
    "HAMMING_THR = 10  # ngưỡng Hamming"
   ]
  },
  {
   "cell_type": "code",
   "execution_count": 39,
   "id": "8534983e-ead8-4f14-a504-a34f8a4fca5e",
   "metadata": {},
   "outputs": [],
   "source": [
    "def phash_imagehash(path, hash_size=8):\n",
    "    \"\"\"Trả về imagehash.ImageHash hoặc None nếu không đọc được.\"\"\"\n",
    "    try:\n",
    "        with Image.open(path) as img:\n",
    "            return imagehash.phash(img, hash_size=hash_size)\n",
    "    except Exception:\n",
    "        return None"
   ]
  },
  {
   "cell_type": "code",
   "execution_count": 40,
   "id": "f9dd01e8-46d1-44f9-85fc-dd6728353cd1",
   "metadata": {},
   "outputs": [],
   "source": [
    "dedup_results = {}"
   ]
  },
  {
   "cell_type": "code",
   "execution_count": 41,
   "id": "28264cc1-e316-4892-96cc-a79d42fac1c5",
   "metadata": {},
   "outputs": [
    {
     "name": "stdout",
     "output_type": "stream",
     "text": [
      "[DuongThu] dup: frame_19.jpg <-> frame_20.jpg | hamming=10 -> loại frame_20.jpg\n",
      "[DuongThu] dup: frame_32.jpg <-> frame_33.jpg | hamming=8 -> loại frame_33.jpg\n",
      "[DuongThu] dup: frame_65.jpg <-> frame_66.jpg | hamming=2 -> loại frame_66.jpg\n",
      "[DuongThu] dup: frame_86.jpg <-> frame_87.jpg | hamming=10 -> loại frame_87.jpg\n",
      "[DuongThu] dup: frame_95.jpg <-> frame_96.jpg | hamming=10 -> loại frame_96.jpg\n",
      "[DuongThu] dup: frame_142.jpg <-> frame_143.jpg | hamming=0 -> loại frame_143.jpg\n",
      "[DuongThu] dup: frame_153.jpg <-> frame_154.jpg | hamming=8 -> loại frame_154.jpg\n",
      "[DuongThu] dup: frame_153.jpg <-> frame_155.jpg | hamming=8 -> loại frame_155.jpg\n",
      "[DuongThu] dup: frame_169.jpg <-> frame_170.jpg | hamming=10 -> loại frame_170.jpg\n",
      "[DuongThu] dup: frame_191.jpg <-> frame_192.jpg | hamming=6 -> loại frame_192.jpg\n",
      "[DuongThu] dup: frame_197.jpg <-> frame_198.jpg | hamming=4 -> loại frame_198.jpg\n",
      "[DuongThu] dup: frame_219.jpg <-> frame_220.jpg | hamming=10 -> loại frame_220.jpg\n",
      "[DuongThu] dup: frame_221.jpg <-> frame_222.jpg | hamming=6 -> loại frame_222.jpg\n",
      "[DuongThu] dup: frame_221.jpg <-> frame_223.jpg | hamming=8 -> loại frame_223.jpg\n",
      "[DuongThu] dup: frame_224.jpg <-> frame_225.jpg | hamming=4 -> loại frame_225.jpg\n",
      "[DuongThu] dup: frame_224.jpg <-> frame_226.jpg | hamming=2 -> loại frame_226.jpg\n",
      "[DuongThu] dup: frame_272.jpg <-> frame_273.jpg | hamming=8 -> loại frame_273.jpg\n",
      "[DuongThu] dup: frame_272.jpg <-> frame_274.jpg | hamming=8 -> loại frame_274.jpg\n",
      "[DuongThu] dup: frame_294.jpg <-> frame_295.jpg | hamming=10 -> loại frame_295.jpg\n",
      "[DuongThu] dup: frame_305.jpg <-> frame_306.jpg | hamming=4 -> loại frame_306.jpg\n",
      "[DuongThu] dup: frame_307.jpg <-> frame_308.jpg | hamming=8 -> loại frame_308.jpg\n",
      "[DuongThu] dup: frame_321.jpg <-> frame_322.jpg | hamming=10 -> loại frame_322.jpg\n",
      "[DuongThu] dup: frame_340.jpg <-> frame_341.jpg | hamming=6 -> loại frame_341.jpg\n",
      "[DuongThu] dup: frame_342.jpg <-> frame_343.jpg | hamming=10 -> loại frame_343.jpg\n",
      "[DuongThu] dup: frame_344.jpg <-> frame_345.jpg | hamming=6 -> loại frame_345.jpg\n",
      "[DuongThu] dup: frame_344.jpg <-> frame_346.jpg | hamming=10 -> loại frame_346.jpg\n",
      "[DuongThu] dup: frame_344.jpg <-> frame_347.jpg | hamming=10 -> loại frame_347.jpg\n",
      "[DuongThu] dup: frame_356.jpg <-> frame_357.jpg | hamming=10 -> loại frame_357.jpg\n",
      "[DuongThu] dup: frame_358.jpg <-> frame_359.jpg | hamming=8 -> loại frame_359.jpg\n",
      "[DuongThu] dup: frame_358.jpg <-> frame_360.jpg | hamming=10 -> loại frame_360.jpg\n",
      "[DuongThu] dup: frame_361.jpg <-> frame_362.jpg | hamming=8 -> loại frame_362.jpg\n",
      "[DuongThu] dup: frame_363.jpg <-> frame_364.jpg | hamming=6 -> loại frame_364.jpg\n",
      "[DuongThu] dup: frame_370.jpg <-> frame_371.jpg | hamming=2 -> loại frame_371.jpg\n",
      "[DuongThu] dup: frame_396.jpg <-> frame_397.jpg | hamming=10 -> loại frame_397.jpg\n",
      "[DuongThu] dup: frame_408.jpg <-> frame_409.jpg | hamming=8 -> loại frame_409.jpg\n",
      "[DuongThu] dup: frame_421.jpg <-> frame_422.jpg | hamming=4 -> loại frame_422.jpg\n",
      "[DuongThu] dup: frame_423.jpg <-> frame_424.jpg | hamming=4 -> loại frame_424.jpg\n",
      "[DuongThu] dup: frame_423.jpg <-> frame_425.jpg | hamming=8 -> loại frame_425.jpg\n",
      "[DuongThu] dup: frame_457.jpg <-> frame_458.jpg | hamming=4 -> loại frame_458.jpg\n",
      "[DuongThu] dup: frame_460.jpg <-> frame_462.jpg | hamming=10 -> loại frame_462.jpg\n",
      "[DuongThu] dup: frame_460.jpg <-> frame_463.jpg | hamming=8 -> loại frame_463.jpg\n",
      "[DuongThu] dup: frame_483.jpg <-> frame_484.jpg | hamming=10 -> loại frame_484.jpg\n",
      "[DuongThu] dup: frame_508.jpg <-> frame_509.jpg | hamming=4 -> loại frame_509.jpg\n",
      "[DuongThu] dup: frame_522.jpg <-> frame_523.jpg | hamming=4 -> loại frame_523.jpg\n",
      "[DuongThu] dup: frame_525.jpg <-> frame_526.jpg | hamming=2 -> loại frame_526.jpg\n",
      "[DuongThu] dup: frame_546.jpg <-> frame_547.jpg | hamming=2 -> loại frame_547.jpg\n",
      "[DuongThu] dup: frame_569.jpg <-> frame_570.jpg | hamming=4 -> loại frame_570.jpg\n",
      "[DuongThu] dup: frame_588.jpg <-> frame_589.jpg | hamming=10 -> loại frame_589.jpg\n",
      "[DuongThu] dup: frame_611.jpg <-> frame_612.jpg | hamming=8 -> loại frame_612.jpg\n",
      "[DuongThu] dup: frame_638.jpg <-> frame_639.jpg | hamming=2 -> loại frame_639.jpg\n",
      "[DuongThu] dup: frame_676.jpg <-> frame_677.jpg | hamming=4 -> loại frame_677.jpg\n",
      "[DuongThu] dup: frame_676.jpg <-> frame_678.jpg | hamming=8 -> loại frame_678.jpg\n",
      "[DuongThu] dup: frame_699.jpg <-> frame_700.jpg | hamming=4 -> loại frame_700.jpg\n",
      "[DuongThu] dup: frame_699.jpg <-> frame_701.jpg | hamming=4 -> loại frame_701.jpg\n",
      "[DuongThu] dup: frame_699.jpg <-> frame_702.jpg | hamming=4 -> loại frame_702.jpg\n",
      "[DuongThu] dup: frame_893.jpg <-> frame_894.jpg | hamming=4 -> loại frame_894.jpg\n",
      "[DuongThu] dup: frame_893.jpg <-> frame_895.jpg | hamming=8 -> loại frame_895.jpg\n",
      "[DuongThu] dup: frame_893.jpg <-> frame_896.jpg | hamming=10 -> loại frame_896.jpg\n",
      "[DuongThu] dup: frame_982.jpg <-> frame_983.jpg | hamming=2 -> loại frame_983.jpg\n",
      "[DuongThu] dup: frame_982.jpg <-> frame_984.jpg | hamming=2 -> loại frame_984.jpg\n",
      "[DuongThu] dup: frame_987.jpg <-> frame_988.jpg | hamming=10 -> loại frame_988.jpg\n",
      "[DuongThu] dup: frame_993.jpg <-> frame_994.jpg | hamming=8 -> loại frame_994.jpg\n",
      "[DuongThu] from=668 kept=606 removed=62\n",
      "[NBDL] dup: frame_8.jpg <-> frame_9.jpg | hamming=10 -> loại frame_9.jpg\n",
      "[NBDL] dup: frame_19.jpg <-> frame_20.jpg | hamming=0 -> loại frame_20.jpg\n",
      "[NBDL] dup: frame_38.jpg <-> frame_39.jpg | hamming=4 -> loại frame_39.jpg\n",
      "[NBDL] dup: frame_46.jpg <-> frame_47.jpg | hamming=6 -> loại frame_47.jpg\n",
      "[NBDL] dup: frame_59.jpg <-> frame_60.jpg | hamming=10 -> loại frame_60.jpg\n",
      "[NBDL] dup: frame_100.jpg <-> frame_101.jpg | hamming=0 -> loại frame_101.jpg\n",
      "[NBDL] dup: frame_125.jpg <-> frame_126.jpg | hamming=6 -> loại frame_126.jpg\n",
      "[NBDL] dup: frame_141.jpg <-> frame_142.jpg | hamming=10 -> loại frame_142.jpg\n",
      "[NBDL] dup: frame_143.jpg <-> frame_144.jpg | hamming=10 -> loại frame_144.jpg\n",
      "[NBDL] dup: frame_157.jpg <-> frame_158.jpg | hamming=4 -> loại frame_158.jpg\n",
      "[NBDL] dup: frame_161.jpg <-> frame_162.jpg | hamming=8 -> loại frame_162.jpg\n",
      "[NBDL] dup: frame_163.jpg <-> frame_164.jpg | hamming=4 -> loại frame_164.jpg\n",
      "[NBDL] dup: frame_189.jpg <-> frame_190.jpg | hamming=6 -> loại frame_190.jpg\n",
      "[NBDL] dup: frame_199.jpg <-> frame_200.jpg | hamming=8 -> loại frame_200.jpg\n",
      "[NBDL] dup: frame_199.jpg <-> frame_201.jpg | hamming=10 -> loại frame_201.jpg\n",
      "[NBDL] dup: frame_216.jpg <-> frame_217.jpg | hamming=10 -> loại frame_217.jpg\n",
      "[NBDL] dup: frame_221.jpg <-> frame_222.jpg | hamming=6 -> loại frame_222.jpg\n",
      "[NBDL] dup: frame_226.jpg <-> frame_227.jpg | hamming=6 -> loại frame_227.jpg\n",
      "[NBDL] dup: frame_234.jpg <-> frame_235.jpg | hamming=8 -> loại frame_235.jpg\n",
      "[NBDL] dup: frame_278.jpg <-> frame_279.jpg | hamming=2 -> loại frame_279.jpg\n",
      "[NBDL] dup: frame_291.jpg <-> frame_292.jpg | hamming=0 -> loại frame_292.jpg\n",
      "[NBDL] dup: frame_291.jpg <-> frame_293.jpg | hamming=6 -> loại frame_293.jpg\n",
      "[NBDL] dup: frame_291.jpg <-> frame_294.jpg | hamming=8 -> loại frame_294.jpg\n",
      "[NBDL] dup: frame_291.jpg <-> frame_295.jpg | hamming=6 -> loại frame_295.jpg\n",
      "[NBDL] dup: frame_299.jpg <-> frame_300.jpg | hamming=2 -> loại frame_300.jpg\n",
      "[NBDL] dup: frame_305.jpg <-> frame_306.jpg | hamming=6 -> loại frame_306.jpg\n",
      "[NBDL] dup: frame_344.jpg <-> frame_345.jpg | hamming=4 -> loại frame_345.jpg\n",
      "[NBDL] dup: frame_349.jpg <-> frame_350.jpg | hamming=10 -> loại frame_350.jpg\n",
      "[NBDL] dup: frame_407.jpg <-> frame_408.jpg | hamming=4 -> loại frame_408.jpg\n",
      "[NBDL] dup: frame_461.jpg <-> frame_462.jpg | hamming=10 -> loại frame_462.jpg\n",
      "[NBDL] dup: frame_463.jpg <-> frame_464.jpg | hamming=10 -> loại frame_464.jpg\n",
      "[NBDL] dup: frame_473.jpg <-> frame_474.jpg | hamming=6 -> loại frame_474.jpg\n",
      "[NBDL] dup: frame_506.jpg <-> frame_507.jpg | hamming=6 -> loại frame_507.jpg\n",
      "[NBDL] dup: frame_508.jpg <-> frame_509.jpg | hamming=2 -> loại frame_509.jpg\n",
      "[NBDL] dup: frame_537.jpg <-> frame_538.jpg | hamming=10 -> loại frame_538.jpg\n",
      "[NBDL] dup: frame_545.jpg <-> frame_546.jpg | hamming=8 -> loại frame_546.jpg\n",
      "[NBDL] dup: frame_549.jpg <-> frame_550.jpg | hamming=10 -> loại frame_550.jpg\n",
      "[NBDL] dup: frame_549.jpg <-> frame_551.jpg | hamming=10 -> loại frame_551.jpg\n",
      "[NBDL] dup: frame_599.jpg <-> frame_600.jpg | hamming=6 -> loại frame_600.jpg\n",
      "[NBDL] dup: frame_652.jpg <-> frame_653.jpg | hamming=8 -> loại frame_653.jpg\n",
      "[NBDL] dup: frame_671.jpg <-> frame_672.jpg | hamming=4 -> loại frame_672.jpg\n",
      "[NBDL] dup: frame_673.jpg <-> frame_674.jpg | hamming=6 -> loại frame_674.jpg\n",
      "[NBDL] dup: frame_673.jpg <-> frame_675.jpg | hamming=8 -> loại frame_675.jpg\n",
      "[NBDL] dup: frame_673.jpg <-> frame_676.jpg | hamming=4 -> loại frame_676.jpg\n",
      "[NBDL] dup: frame_693.jpg <-> frame_694.jpg | hamming=8 -> loại frame_694.jpg\n",
      "[NBDL] dup: frame_719.jpg <-> frame_720.jpg | hamming=2 -> loại frame_720.jpg\n",
      "[NBDL] dup: frame_719.jpg <-> frame_721.jpg | hamming=8 -> loại frame_721.jpg\n",
      "[NBDL] dup: frame_719.jpg <-> frame_722.jpg | hamming=8 -> loại frame_722.jpg\n",
      "[NBDL] dup: frame_727.jpg <-> frame_728.jpg | hamming=8 -> loại frame_728.jpg\n",
      "[NBDL] dup: frame_744.jpg <-> frame_745.jpg | hamming=2 -> loại frame_745.jpg\n",
      "[NBDL] dup: frame_766.jpg <-> frame_767.jpg | hamming=6 -> loại frame_767.jpg\n",
      "[NBDL] dup: frame_780.jpg <-> frame_781.jpg | hamming=6 -> loại frame_781.jpg\n",
      "[NBDL] dup: frame_981.jpg <-> frame_982.jpg | hamming=10 -> loại frame_982.jpg\n",
      "[NBDL] dup: frame_983.jpg <-> frame_984.jpg | hamming=4 -> loại frame_984.jpg\n",
      "[NBDL] dup: frame_985.jpg <-> frame_986.jpg | hamming=10 -> loại frame_986.jpg\n",
      "[NBDL] dup: frame_987.jpg <-> frame_988.jpg | hamming=2 -> loại frame_988.jpg\n",
      "[NBDL] dup: frame_987.jpg <-> frame_989.jpg | hamming=2 -> loại frame_989.jpg\n",
      "[NBDL] dup: frame_1007.jpg <-> frame_1008.jpg | hamming=10 -> loại frame_1008.jpg\n",
      "[NBDL] dup: frame_1016.jpg <-> frame_1017.jpg | hamming=2 -> loại frame_1017.jpg\n",
      "[NBDL] dup: frame_1036.jpg <-> frame_1037.jpg | hamming=2 -> loại frame_1037.jpg\n",
      "[NBDL] dup: frame_1050.jpg <-> frame_1051.jpg | hamming=0 -> loại frame_1051.jpg\n",
      "[NBDL] dup: frame_1052.jpg <-> frame_1053.jpg | hamming=10 -> loại frame_1053.jpg\n",
      "[NBDL] dup: frame_1061.jpg <-> frame_1062.jpg | hamming=4 -> loại frame_1062.jpg\n",
      "[NBDL] dup: frame_1063.jpg <-> frame_1064.jpg | hamming=6 -> loại frame_1064.jpg\n",
      "[NBDL] dup: frame_1063.jpg <-> frame_1065.jpg | hamming=6 -> loại frame_1065.jpg\n",
      "[NBDL] dup: frame_1066.jpg <-> frame_1067.jpg | hamming=2 -> loại frame_1067.jpg\n",
      "[NBDL] dup: frame_1068.jpg <-> frame_1069.jpg | hamming=4 -> loại frame_1069.jpg\n",
      "[NBDL] dup: frame_1075.jpg <-> frame_1076.jpg | hamming=6 -> loại frame_1076.jpg\n",
      "[NBDL] dup: frame_1085.jpg <-> frame_1086.jpg | hamming=6 -> loại frame_1086.jpg\n",
      "[NBDL] dup: frame_1085.jpg <-> frame_1087.jpg | hamming=6 -> loại frame_1087.jpg\n",
      "[NBDL] dup: frame_1085.jpg <-> frame_1088.jpg | hamming=8 -> loại frame_1088.jpg\n",
      "[NBDL] dup: frame_1093.jpg <-> frame_1094.jpg | hamming=8 -> loại frame_1094.jpg\n",
      "[NBDL] dup: frame_1095.jpg <-> frame_1096.jpg | hamming=4 -> loại frame_1096.jpg\n",
      "[NBDL] dup: frame_1107.jpg <-> frame_1108.jpg | hamming=2 -> loại frame_1108.jpg\n",
      "[NBDL] dup: frame_1124.jpg <-> frame_1125.jpg | hamming=6 -> loại frame_1125.jpg\n",
      "[NBDL] dup: frame_1126.jpg <-> frame_1127.jpg | hamming=10 -> loại frame_1127.jpg\n",
      "[NBDL] from=931 kept=855 removed=76\n",
      "[STSH] dup: frame_4.jpg <-> frame_5.jpg | hamming=6 -> loại frame_5.jpg\n",
      "[STSH] dup: frame_7.jpg <-> frame_8.jpg | hamming=10 -> loại frame_8.jpg\n",
      "[STSH] dup: frame_34.jpg <-> frame_35.jpg | hamming=10 -> loại frame_35.jpg\n",
      "[STSH] dup: frame_63.jpg <-> frame_64.jpg | hamming=10 -> loại frame_64.jpg\n",
      "[STSH] dup: frame_63.jpg <-> frame_65.jpg | hamming=10 -> loại frame_65.jpg\n",
      "[STSH] dup: frame_82.jpg <-> frame_83.jpg | hamming=2 -> loại frame_83.jpg\n",
      "[STSH] dup: frame_96.jpg <-> frame_97.jpg | hamming=8 -> loại frame_97.jpg\n",
      "[STSH] dup: frame_96.jpg <-> frame_98.jpg | hamming=10 -> loại frame_98.jpg\n",
      "[STSH] dup: frame_114.jpg <-> frame_115.jpg | hamming=8 -> loại frame_115.jpg\n",
      "[STSH] dup: frame_116.jpg <-> frame_117.jpg | hamming=10 -> loại frame_117.jpg\n",
      "[STSH] dup: frame_123.jpg <-> frame_124.jpg | hamming=8 -> loại frame_124.jpg\n",
      "[STSH] dup: frame_125.jpg <-> frame_126.jpg | hamming=6 -> loại frame_126.jpg\n",
      "[STSH] dup: frame_130.jpg <-> frame_131.jpg | hamming=0 -> loại frame_131.jpg\n",
      "[STSH] dup: frame_144.jpg <-> frame_145.jpg | hamming=4 -> loại frame_145.jpg\n",
      "[STSH] dup: frame_163.jpg <-> frame_164.jpg | hamming=8 -> loại frame_164.jpg\n",
      "[STSH] dup: frame_163.jpg <-> frame_165.jpg | hamming=8 -> loại frame_165.jpg\n",
      "[STSH] dup: frame_163.jpg <-> frame_166.jpg | hamming=4 -> loại frame_166.jpg\n",
      "[STSH] dup: frame_190.jpg <-> frame_191.jpg | hamming=10 -> loại frame_191.jpg\n",
      "[STSH] dup: frame_192.jpg <-> frame_193.jpg | hamming=0 -> loại frame_193.jpg\n",
      "[STSH] dup: frame_195.jpg <-> frame_196.jpg | hamming=4 -> loại frame_196.jpg\n",
      "[STSH] dup: frame_199.jpg <-> frame_200.jpg | hamming=6 -> loại frame_200.jpg\n",
      "[STSH] dup: frame_262.jpg <-> frame_263.jpg | hamming=8 -> loại frame_263.jpg\n",
      "[STSH] dup: frame_265.jpg <-> frame_266.jpg | hamming=10 -> loại frame_266.jpg\n",
      "[STSH] dup: frame_280.jpg <-> frame_281.jpg | hamming=10 -> loại frame_281.jpg\n",
      "[STSH] dup: frame_284.jpg <-> frame_285.jpg | hamming=4 -> loại frame_285.jpg\n",
      "[STSH] dup: frame_284.jpg <-> frame_286.jpg | hamming=10 -> loại frame_286.jpg\n",
      "[STSH] dup: frame_296.jpg <-> frame_297.jpg | hamming=4 -> loại frame_297.jpg\n",
      "[STSH] dup: frame_299.jpg <-> frame_300.jpg | hamming=4 -> loại frame_300.jpg\n",
      "[STSH] dup: frame_299.jpg <-> frame_301.jpg | hamming=4 -> loại frame_301.jpg\n",
      "[STSH] dup: frame_299.jpg <-> frame_302.jpg | hamming=8 -> loại frame_302.jpg\n",
      "[STSH] dup: frame_329.jpg <-> frame_330.jpg | hamming=6 -> loại frame_330.jpg\n",
      "[STSH] dup: frame_329.jpg <-> frame_331.jpg | hamming=6 -> loại frame_331.jpg\n",
      "[STSH] dup: frame_329.jpg <-> frame_332.jpg | hamming=4 -> loại frame_332.jpg\n",
      "[STSH] dup: frame_360.jpg <-> frame_361.jpg | hamming=6 -> loại frame_361.jpg\n",
      "[STSH] dup: frame_360.jpg <-> frame_362.jpg | hamming=6 -> loại frame_362.jpg\n",
      "[STSH] dup: frame_364.jpg <-> frame_365.jpg | hamming=6 -> loại frame_365.jpg\n",
      "[STSH] dup: frame_364.jpg <-> frame_366.jpg | hamming=4 -> loại frame_366.jpg\n",
      "[STSH] dup: frame_396.jpg <-> frame_397.jpg | hamming=10 -> loại frame_397.jpg\n",
      "[STSH] dup: frame_413.jpg <-> frame_414.jpg | hamming=4 -> loại frame_414.jpg\n",
      "[STSH] dup: frame_413.jpg <-> frame_415.jpg | hamming=6 -> loại frame_415.jpg\n",
      "[STSH] dup: frame_420.jpg <-> frame_421.jpg | hamming=8 -> loại frame_421.jpg\n",
      "[STSH] dup: frame_455.jpg <-> frame_456.jpg | hamming=8 -> loại frame_456.jpg\n",
      "[STSH] dup: frame_462.jpg <-> frame_463.jpg | hamming=10 -> loại frame_463.jpg\n",
      "[STSH] dup: frame_490.jpg <-> frame_491.jpg | hamming=6 -> loại frame_491.jpg\n",
      "[STSH] dup: frame_522.jpg <-> frame_523.jpg | hamming=6 -> loại frame_523.jpg\n",
      "[STSH] dup: frame_533.jpg <-> frame_534.jpg | hamming=2 -> loại frame_534.jpg\n",
      "[STSH] dup: frame_533.jpg <-> frame_535.jpg | hamming=8 -> loại frame_535.jpg\n",
      "[STSH] dup: frame_533.jpg <-> frame_536.jpg | hamming=6 -> loại frame_536.jpg\n",
      "[STSH] dup: frame_543.jpg <-> frame_544.jpg | hamming=8 -> loại frame_544.jpg\n",
      "[STSH] dup: frame_543.jpg <-> frame_545.jpg | hamming=8 -> loại frame_545.jpg\n",
      "[STSH] dup: frame_548.jpg <-> frame_550.jpg | hamming=6 -> loại frame_550.jpg\n",
      "[STSH] dup: frame_573.jpg <-> frame_574.jpg | hamming=10 -> loại frame_574.jpg\n",
      "[STSH] dup: frame_577.jpg <-> frame_578.jpg | hamming=4 -> loại frame_578.jpg\n",
      "[STSH] from=466 kept=413 removed=53\n"
     ]
    }
   ],
   "source": [
    "for folder, paths in cleaned_results.items():\n",
    "    if not paths:\n",
    "        dedup_results[folder] = []\n",
    "        print(f\"[{folder}] Không có ảnh để dedup.\")\n",
    "        continue\n",
    "\n",
    "    kept = []\n",
    "    last_kept_hash = None\n",
    "    last_kept_path = None\n",
    "\n",
    "    for idx, p in enumerate(paths):\n",
    "        h = phash_imagehash(p)\n",
    "\n",
    "        if h is None:\n",
    "            print(f\"[CẢNH BÁO] Không đọc được để hash: {p} — giữ ảnh.\")\n",
    "            kept.append(p)\n",
    "            last_kept_hash = None\n",
    "            last_kept_path = None\n",
    "            continue\n",
    "\n",
    "        if last_kept_hash is None:\n",
    "            # ảnh đầu tiên hoặc sau ảnh lỗi → giữ\n",
    "            kept.append(p)\n",
    "            last_kept_hash = h\n",
    "            last_kept_path = p\n",
    "            continue\n",
    "\n",
    "        dist = last_kept_hash - h\n",
    "        if dist <= HAMMING_THR:\n",
    "            print(f\"[{folder}] dup: {os.path.basename(last_kept_path)} <-> {os.path.basename(p)} | hamming={dist} -> loại {os.path.basename(p)}\")\n",
    "        else:\n",
    "            kept.append(p)\n",
    "            last_kept_hash = h\n",
    "            last_kept_path = p\n",
    "\n",
    "    dedup_results[folder] = kept\n",
    "    print(f\"[{folder}] from={len(paths)} kept={len(kept)} removed={len(paths)-len(kept)}\")"
   ]
  },
  {
   "cell_type": "markdown",
   "id": "394c9300-820e-47f4-a96c-091ad91d1017",
   "metadata": {},
   "source": [
    "# Chuẩn bị tập train thành 1 folder chứa ảnh màu và 1 folder chứa ảnh trắng đen"
   ]
  },
  {
   "cell_type": "code",
   "execution_count": 42,
   "id": "34a0e235-ba5c-466f-9dbb-1783d2c42ed1",
   "metadata": {},
   "outputs": [],
   "source": [
    "# Thư mục gốc (chứa Color_image và Grayscale_image)\n",
    "BASE = \"cleaned\"\n",
    "COLOR_DIR = os.path.join(BASE, \"Color_image\")\n",
    "GRAY_DIR = os.path.join(BASE, \"Grayscale_image\")"
   ]
  },
  {
   "cell_type": "code",
   "execution_count": 43,
   "id": "a9ac68e2-44f5-41ce-b7bf-86ef6124877d",
   "metadata": {},
   "outputs": [],
   "source": [
    "# Tạo các folder đích\n",
    "os.makedirs(COLOR_DIR, exist_ok=True)\n",
    "os.makedirs(GRAY_DIR, exist_ok=True)"
   ]
  },
  {
   "cell_type": "code",
   "execution_count": 44,
   "id": "afacd183-00eb-4071-9cbf-712b0d5be849",
   "metadata": {},
   "outputs": [
    {
     "name": "stdout",
     "output_type": "stream",
     "text": [
      "✅ Hoàn tất. Color_image và Grayscale_image nằm trong thư mục 'cleaned'.\n"
     ]
    }
   ],
   "source": [
    "# dedup_results phải tồn tại: dict {folder_name: [list đường dẫn ảnh, ...], ...}\n",
    "for folder, paths in dedup_results.items():\n",
    "    color_subdir = os.path.join(COLOR_DIR, folder)\n",
    "    gray_subdir = os.path.join(GRAY_DIR, folder)\n",
    "    os.makedirs(color_subdir, exist_ok=True)\n",
    "    os.makedirs(gray_subdir, exist_ok=True)\n",
    "\n",
    "    for img_path in paths:\n",
    "        if not os.path.isfile(img_path):\n",
    "            print(f\"[CẢNH BÁO] Không tìm thấy file: {img_path}\")\n",
    "            continue\n",
    "\n",
    "        # copy ảnh màu nguyên bản\n",
    "        try:\n",
    "            shutil.copy2(img_path, os.path.join(color_subdir, os.path.basename(img_path)))\n",
    "        except Exception as e:\n",
    "            print(f\"[LỖI] Không copy {img_path}: {e}\")\n",
    "            continue\n",
    "\n",
    "        # đọc và chuyển sang grayscale rồi lưu\n",
    "        img = cv2.imread(img_path, cv2.IMREAD_COLOR)\n",
    "        if img is None:\n",
    "            print(f\"[CẢNH BÁO] Không đọc được ảnh để chuyển grayscale: {img_path}\")\n",
    "            continue\n",
    "        gray_img = cv2.cvtColor(img, cv2.COLOR_BGR2GRAY)\n",
    "        dest_gray = os.path.join(gray_subdir, os.path.basename(img_path))\n",
    "        if not cv2.imwrite(dest_gray, gray_img):\n",
    "            print(f\"[LỖI] Không lưu được grayscale: {dest_gray}\")\n",
    "\n",
    "print(\"✅ Hoàn tất. Color_image và Grayscale_image nằm trong thư mục 'cleaned'.\")"
   ]
  },
  {
   "cell_type": "code",
   "execution_count": null,
   "id": "12a9fac1-2070-4257-9fd8-118cf46df7e8",
   "metadata": {},
   "outputs": [],
   "source": []
  }
 ],
 "metadata": {
  "kernelspec": {
   "display_name": "Python [conda env:img_scraper]",
   "language": "python",
   "name": "conda-env-img_scraper-py"
  },
  "language_info": {
   "codemirror_mode": {
    "name": "ipython",
    "version": 3
   },
   "file_extension": ".py",
   "mimetype": "text/x-python",
   "name": "python",
   "nbconvert_exporter": "python",
   "pygments_lexer": "ipython3",
   "version": "3.12.11"
  }
 },
 "nbformat": 4,
 "nbformat_minor": 5
}
