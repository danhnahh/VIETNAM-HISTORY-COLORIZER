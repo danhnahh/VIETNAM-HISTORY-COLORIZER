{
 "cells": [
  {
   "cell_type": "code",
   "execution_count": 1,
   "id": "40edeb4a-9ec7-418a-967e-cf8e01822e67",
   "metadata": {},
   "outputs": [],
   "source": [
    "import os"
   ]
  },
  {
   "cell_type": "code",
   "execution_count": 12,
   "id": "ff79685b-cd43-458f-ba6e-05b98cd4231b",
   "metadata": {},
   "outputs": [],
   "source": [
    "color_dir = \"cleaned/Color_image\"\n",
    "gray_dir = \"cleaned/Grayscale_image\""
   ]
  },
  {
   "cell_type": "code",
   "execution_count": 20,
   "id": "129d32bf-13e3-4893-80f0-a79e63983a86",
   "metadata": {},
   "outputs": [],
   "source": [
    "def count_image(folder_path):\n",
    "    total = 0\n",
    "    for subfolder in os.listdir(folder_path):\n",
    "        subfolder_path = os.path.join(folder_path, subfolder)\n",
    "        count = 0\n",
    "        for file in os.listdir(subfolder_path):\n",
    "            if file.lower().endswith('.jpg'):\n",
    "                count += 1\n",
    "        print(subfolder, count)\n",
    "        total += count\n",
    "    print('---------------------')\n",
    "    return total"
   ]
  },
  {
   "cell_type": "code",
   "execution_count": 21,
   "id": "30732fa6-3ef5-4828-b5a2-778ea9f0d1de",
   "metadata": {},
   "outputs": [
    {
     "name": "stdout",
     "output_type": "stream",
     "text": [
      "BMD 727\n",
      "DLDB22 257\n",
      "DLDB23 276\n",
      "DLDB24 247\n",
      "DLDB25 235\n",
      "DLDB26 237\n",
      "DuongThu_no_logo 608\n",
      "NBDL 852\n",
      "STSH_no_logo 434\n",
      "---------------------\n",
      "BMD 727\n",
      "DLDB22 257\n",
      "DLDB23 276\n",
      "DLDB24 247\n",
      "DLDB25 235\n",
      "DLDB26 237\n",
      "DuongThu_no_logo 608\n",
      "NBDL 852\n",
      "STSH_no_logo 434\n",
      "---------------------\n"
     ]
    }
   ],
   "source": [
    "num_color = count_image(color_dir)\n",
    "num_gray = count_image(gray_dir)"
   ]
  },
  {
   "cell_type": "code",
   "execution_count": 22,
   "id": "f28bea3d-6956-4d0c-b703-d0cd44e68bff",
   "metadata": {},
   "outputs": [
    {
     "name": "stdout",
     "output_type": "stream",
     "text": [
      "Số ảnh trong Color: 3873\n",
      "Số ảnh trong Gray: 3873\n"
     ]
    }
   ],
   "source": [
    "print(f\"Số ảnh trong Color: {num_color}\")\n",
    "print(f\"Số ảnh trong Gray: {num_gray}\")"
   ]
  },
  {
   "cell_type": "code",
   "execution_count": null,
   "id": "ec8716f1-c0b1-4992-9ad5-09897d54512a",
   "metadata": {},
   "outputs": [],
   "source": []
  }
 ],
 "metadata": {
  "kernelspec": {
   "display_name": "Python [conda env:img_scraper]",
   "language": "python",
   "name": "conda-env-img_scraper-py"
  },
  "language_info": {
   "codemirror_mode": {
    "name": "ipython",
    "version": 3
   },
   "file_extension": ".py",
   "mimetype": "text/x-python",
   "name": "python",
   "nbconvert_exporter": "python",
   "pygments_lexer": "ipython3",
   "version": "3.12.11"
  }
 },
 "nbformat": 4,
 "nbformat_minor": 5
}
